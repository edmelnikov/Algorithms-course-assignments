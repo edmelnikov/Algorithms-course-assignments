{
 "cells": [
  {
   "cell_type": "markdown",
   "metadata": {
    "id": "RdkDCwyU5-aD"
   },
   "source": [
    "# Мельников Евгений 18ПМИ-1\n",
    "# Малышева Екатерина 18ПМИ-2\n"
   ]
  },
  {
   "cell_type": "code",
   "execution_count": null,
   "metadata": {
    "colab": {
     "base_uri": "https://localhost:8080/"
    },
    "id": "eEGdYzlU4SmG",
    "outputId": "631443ed-0cae-445f-d82b-7b956e83ccca"
   },
   "outputs": [
    {
     "name": "stdout",
     "output_type": "stream",
     "text": [
      "Populating the interactive namespace from numpy and matplotlib\n"
     ]
    }
   ],
   "source": [
    "import numpy as np\n",
    "import networkx as nx\n",
    "from collections import defaultdict\n",
    "import time\n",
    "\n",
    "%matplotlib notebook\n",
    "import matplotlib.pyplot as plt\n",
    "%pylab inline"
   ]
  },
  {
   "cell_type": "markdown",
   "metadata": {
    "id": "sD1wC1Wc4YHf"
   },
   "source": [
    "## Генераторы графов"
   ]
  },
  {
   "cell_type": "code",
   "execution_count": null,
   "metadata": {
    "id": "grFeMbi25Zi3"
   },
   "outputs": [],
   "source": [
    "# функция возвращает случайный простой граф в моделе Gnp \n",
    "# вероятность ребра p = 2*m/(n*(n-1)), чтобы среденее число ребер было = m\n",
    "# структура хранения - список смежности, реализованный через словарь (хеш-таблица) списков \n",
    "# ребра представляют собой tuple двух вершин\n",
    "def get_random_simple_Gnp_graph(n, m, seed=42):\n",
    "  edge_p = 2*m/(n*(n-1))\n",
    "  g = nx.random_graphs.fast_gnp_random_graph(n,edge_p,seed)\n",
    "  \n",
    "  return nx.convert.to_dict_of_lists(g)"
   ]
  },
  {
   "cell_type": "code",
   "execution_count": null,
   "metadata": {
    "id": "ENCnp0CN-veo"
   },
   "outputs": [],
   "source": [
    "# функция возвращает случайный ориентированный граф в моделе Gnp \n",
    "# вероятность ребра p = m/(n*(n-1)), чтобы среденее число ребер было = m\n",
    "# структура хранения - список смежности, реализованный через словарь (хеш-таблица) списков \n",
    "# ребра представляют собой tuple двух вершин\n",
    "def get_random_Gnp_digraph(n, m, seed=42):\n",
    "  edge_p = m/(n*(n-1))\n",
    "  g = nx.random_graphs.fast_gnp_random_graph(n,edge_p,seed,True)\n",
    "  \n",
    "  return nx.convert.to_dict_of_lists(g)"
   ]
  },
  {
   "cell_type": "code",
   "execution_count": null,
   "metadata": {
    "id": "RT_M3XlFLMnS"
   },
   "outputs": [],
   "source": [
    "# функция возвращает случайный простой граф в моделе Gnm \n",
    "# структура хранения - список смежности, реализованный через словарь (хеш-таблица) списков \n",
    "# ребра представляют собой tuple двух вершин\n",
    "def get_random_simple_Gnm_graph(n, m, seed=42):\n",
    "  g = nx.random_graphs.gnm_random_graph(n,m,seed)\n",
    "\n",
    "  return nx.convert.to_dict_of_lists(g)"
   ]
  },
  {
   "cell_type": "code",
   "execution_count": null,
   "metadata": {
    "id": "6bTLnJy9LiwE"
   },
   "outputs": [],
   "source": [
    "# функция возвращает случайный ориентированный граф в моделе Gnm\n",
    "# структура хранения - список смежности, реализованный через словарь (хеш-таблица) списков \n",
    "# ребра представляют собой tuple двух вершин\n",
    "def get_random_Gnm_digraph(n, m, seed=42):\n",
    "  g = nx.random_graphs.gnm_random_graph(n,m,seed,True)\n",
    "\n",
    "  return nx.convert.to_dict_of_lists(g)"
   ]
  },
  {
   "cell_type": "code",
   "execution_count": null,
   "metadata": {
    "id": "qXpwNkSmUvPN"
   },
   "outputs": [],
   "source": [
    "# функция возвращает связный ориентированный Ейлеров граф\n",
    "# в графе n вершин, k - параметр, от которого зависти генерация\n",
    "# структура хранения - список смежности, реализованный через словарь (хеш-таблица) списков \n",
    "# ребра представляют собой tuple двух вершин\n",
    "def get_Euler_digraph(n, k=8):\n",
    "  in_degs, out_degs = [k]*n, [k]*n \n",
    "  G = nx.generators.directed_havel_hakimi_graph(in_degs, out_degs)\n",
    "  WCCs = list(nx.algorithms.components.weakly_connected_components(G))\n",
    "  if len(WCCs) > 1:\n",
    "    connecting_nodes = []\n",
    "    for WCC in WCCs:\n",
    "      some_vertex_of_WCC = next(iter(WCC))\n",
    "      connecting_nodes.append(some_vertex_of_WCC)\n",
    "    for i in range(1, len(connecting_nodes)):\n",
    "      G.add_edge(connecting_nodes[i-1],connecting_nodes[i])\n",
    "      G.add_edge(connecting_nodes[i],connecting_nodes[i-1])\n",
    "    \n",
    "  return nx.convert.to_dict_of_lists(G)"
   ]
  },
  {
   "cell_type": "code",
   "execution_count": null,
   "metadata": {
    "id": "jlCdHUkLCrUj"
   },
   "outputs": [],
   "source": [
    "# утилитарная функция, переводящая таплы вида (1, 0, 0, 1)\n",
    "# в числа, интерпетируя эту запись как число в двоичной записи\n",
    "# эта функция нужна для следующей функции\n",
    "def get_index_from_binary(tup):\n",
    "  n = len(tup)\n",
    "  mult = 1\n",
    "  res = 0\n",
    "  for i in range(n):\n",
    "    res += tup[i]*mult\n",
    "    mult *= 2\n",
    "  return res\n",
    "\n",
    "# функция возвращает связный ориентированный регулярный Ейлеров граф\n",
    "# входные и выходные степени всех вершин совпадают и равны half_dim\n",
    "# число вершин равно 4**half_dim\n",
    "# структура хранения - список смежности, реализованный через словарь (хеш-таблица) списков \n",
    "# ребра представляют собой tuple двух вершин\n",
    "def get_hypercube_digraph(half_dim):\n",
    "  G = nx.generators.hypercube_graph(half_dim*2)\n",
    "  directed_G = nx.DiGraph()\n",
    "  Euler_circuit_G = nx.algorithms.eulerian_circuit(G)\n",
    "  for (u,v) in Euler_circuit_G:\n",
    "    directed_G.add_edge(get_index_from_binary(u), get_index_from_binary(v))\n",
    "  return nx.convert.to_dict_of_lists(directed_G)"
   ]
  },
  {
   "cell_type": "markdown",
   "metadata": {
    "id": "iVqQjVxgfnzk"
   },
   "source": [
    "## Алгоритмы сортировки"
   ]
  },
  {
   "cell_type": "code",
   "execution_count": null,
   "metadata": {
    "id": "lfxzEQsYfs-C"
   },
   "outputs": [],
   "source": [
    "# поразрядная сортировка\n",
    "# возвращает итоговую перестановку эелементов массива A\n",
    "# для того, чтобы можно было переставить элементы в любом другом массиве\n",
    "def radix_argsort(A):\n",
    "    max_el=max(A)\n",
    "    \n",
    "    A_ind=[]# массив с индексами значений A (индекс, А[индекс])\n",
    "    # заполняем массив (для того что бы в конце вывести индексы)\n",
    "    for k in range(len(A)):\n",
    "        A_ind.append((k, A[k]))\n",
    "    pos=0\n",
    "    n=len(A)\n",
    "    while (max_el>>pos*8)>0:\n",
    "\n",
    "        count_sorted=[0]*n# промежуточно отсортированный массив\n",
    "        count=[0]*(2**8)\n",
    "        for i in range (0,n):\n",
    "            el=A_ind[i][1]>>pos*8\n",
    "            index=bin(el)[2:]\n",
    "            index=index[-8:]\n",
    "            index=int(index,2)\n",
    "            count[index]+=1\n",
    "\n",
    "\n",
    "        for i in range(1,len(count)):\n",
    "            count[i]+=count[i-1]# это для устойчивости \n",
    "        i=n-1# начинаем сортировать с конца\n",
    "        while i>=0:\n",
    "            el=A_ind[i][1]>>pos*8\n",
    "            index=bin(el)[2:]\n",
    "            index=index[-8:]\n",
    "            index=int(index,2)\n",
    "\n",
    "            count_sorted[count[index]-1]=A_ind[i]\n",
    "            count[index]-=1\n",
    "            i-=1\n",
    "        for i in range(0,n):\n",
    "            A_ind[i]=count_sorted[i]# делаем промежуточно отсортированный массив начальным\n",
    "        pos+=1\n",
    "        \n",
    "    ind=[]\n",
    "    for i in range(len(A)):\n",
    "        ind.append(A_ind[i][0])# выводим из массива только индексы\n",
    "    return ind"
   ]
  },
  {
   "cell_type": "code",
   "execution_count": null,
   "metadata": {
    "id": "kaW51gQBf99y"
   },
   "outputs": [],
   "source": [
    "# карманная сортировка\n",
    "# возвращает итоговую перестановку эелементов массива A\n",
    "# для того, чтобы можно было переставить элементы в любом другом массиве\n",
    "def bucket_argsort(A):\n",
    "    \n",
    "    B=[] #карманы\n",
    "    B_ind=[]\n",
    "    n=len(A) \n",
    "    for i in range(n):\n",
    "        B.append([])\n",
    "        B_ind.append([])\n",
    "    el_min=min(A)\n",
    "    el_max=max(A)\n",
    "    \n",
    "    if el_min==el_max:\n",
    "        return list(range(n))\n",
    "    for i in range (n):\n",
    "        a=A[i]\n",
    "        pos=int(np.floor(n*((a-el_min)/(el_max-el_min))))\n",
    "        if pos==n: \n",
    "            pos=n-1\n",
    "        B[pos].append(a)\n",
    "        B_ind[pos].append(i)\n",
    "    \n",
    "    sorted_A=[]\n",
    "    sorted_A_ind=[]\n",
    "    \n",
    "    for i in range(n): #insertion sort и склейка карманов\n",
    "        \n",
    "        for j in range(1, len(B[i])): \n",
    "            sort_val = B[i][j] \n",
    "            sort_val_i=B_ind[i][j] \n",
    "            k=j-1\n",
    "            while B[i][k] > sort_val and k>=0 :  \n",
    "                B[i][k+1] = B[i][k]\n",
    "                B_ind[i][k+1] = B_ind[i][k]\n",
    "                k-=1\n",
    "            B[i][k+1] = sort_val\n",
    "            B_ind[i][k+1] = sort_val_i\n",
    "                \n",
    "        for j in range(len(B[i])):\n",
    "            sorted_A.append(B[i][j])\n",
    "            sorted_A_ind.append(B_ind[i][j])\n",
    "            \n",
    "    return sorted_A_ind"
   ]
  },
  {
   "cell_type": "code",
   "execution_count": null,
   "metadata": {
    "id": "2Xrh676Tf-WC"
   },
   "outputs": [],
   "source": [
    "# быстрая сортировка\n",
    "# возвращает итоговую перестановку эелементов массива A\n",
    "# для того, чтобы можно было переставить элементы в любом другом массиве\n",
    "\n",
    "def partition(A,A_ind, st, fn, pivot):# [,)\n",
    "\n",
    "    lbd=A[pivot]\n",
    "    A[fn-1], A[pivot]=A[pivot], A[fn-1]# лямбда в конец\n",
    "    A_ind[fn-1], A_ind[pivot]=A_ind[pivot], A_ind[fn-1]\n",
    "    i=j=st\n",
    "    pivot=fn# отмечаю новое положение pivot\n",
    "    \n",
    "    for k in range(st, fn-1):\n",
    "        if A[k] <lbd:\n",
    "            A[i], A[j]=A[j], A[i]\n",
    "            A_ind[i], A_ind[j]=A_ind[j], A_ind[i]\n",
    "            i+=1\n",
    "            j+=1\n",
    "        elif A[k]>lbd:\n",
    "            j+=1\n",
    "        elif A[k] ==lbd:\n",
    "            if (i-st)>j-i:\n",
    "                A[i], A[j]=A[j], A[i]\n",
    "                A_ind[i], A_ind[j]=A_ind[j], A_ind[i]\n",
    "                j+=1\n",
    "            else:\n",
    "                A[i], A[j]=A[j], A[i]\n",
    "                A_ind[i], A_ind[j]=A_ind[j], A_ind[i]\n",
    "                i+=1\n",
    "                j+=1\n",
    "    A[fn-1], A[i]=A[i], A[fn-1] \n",
    "    A_ind[fn-1], A_ind[i]=A_ind[i], A_ind[fn-1]     \n",
    "    return i\n",
    "\n",
    "def quick_argsort(A,A_ind, st,fn):\n",
    "    '''if st==0 and fn==len(A):\n",
    "        A_ind=[]\n",
    "        for i in range(len(A)):            \n",
    "            #A_ind.append((i, A[i]))\n",
    "            A_ind.append(i)\n",
    "        #A=A_ind'''\n",
    "            \n",
    "    while(fn-st>=8):\n",
    "        pivot=randint(st, fn-1)\n",
    "        pivot=partition(A, A_ind, st, fn, pivot)\n",
    "        \n",
    "        if (pivot-st<=fn-pivot-1):\n",
    "            quick_argsort(A, A_ind,st,pivot)\n",
    "            st=pivot+1\n",
    "        else:\n",
    "            quick_argsort(A,A_ind, pivot+1, fn)\n",
    "            fn=pivot\n",
    "    for i in range(st, fn): #insertion sort\n",
    "        sort_val = A[i]\n",
    "        sort_val_i=A_ind[i]\n",
    "        k=i-1\n",
    "        while A[k] > sort_val and k>=0 :  \n",
    "            A[k+1] = A[k]\n",
    "            A_ind[k+1] = A_ind[k]\n",
    "            k-=1\n",
    "        A[k+1] = sort_val\n",
    "        A_ind[k+1] = sort_val_i\n",
    "  \n",
    "    return A_ind"
   ]
  },
  {
   "cell_type": "markdown",
   "metadata": {
    "id": "-2qavQiBBFv7"
   },
   "source": [
    "## Алгоритмы для поиска мостов"
   ]
  },
  {
   "cell_type": "code",
   "execution_count": null,
   "metadata": {
    "id": "3CssyQPh_L2i"
   },
   "outputs": [],
   "source": [
    "# детерминированный алгоритм для поиска мостов\n",
    "# на вход поступает граф представленный списком смежности\n",
    "# саписок представлен как словарь(хеш-таблица) списков\n",
    "# выход представляет собой список ребер, являющихся мостами \n",
    "def compute_bridges_determ(adj_list): \n",
    "    global tick\n",
    "    tick = -1 # таймер\n",
    "    tick_in = dict() # время захода дфс в вершину\n",
    "    tick_low = dict() # здесь для i-й вершины хранится наименьшее время захода dfs в предка, которого можно достигнуть из вершины\n",
    "        # i за один шаг\n",
    "    colors = dict() # словарь с цветами вершин \n",
    "    bridges = [] # список с мостами  \n",
    "    \n",
    "    for i in range(len(adj_list)):\n",
    "        tick_in[i] = -1\n",
    "        tick_low[i] = -1\n",
    "        colors[i] = 'white' \n",
    "    \n",
    "    def dfs_rec(current_node, prev_node): # current_node, prev_node (parent)\n",
    "        colors[current_node] = 'grey' # помечаем текущую вершину как серую\n",
    "        global tick \n",
    "        tick += 1  \n",
    "        tick_in[current_node] = tick\n",
    "        tick_low[current_node] = tick            \n",
    "        \n",
    "        for next_node in adj_list[current_node]: # проходимся по всем смежным вершинам \n",
    "            if colors[next_node] == 'white': \n",
    "                dfs_rec(next_node, current_node) # прямое ребро                \n",
    "                tick_low[current_node] = min(tick_low[current_node], tick_low[next_node]) # после окончания dfs обновляем\n",
    "                \n",
    "                if (tick_in[current_node] < tick_low[next_node]): # это означает, что вершина next_node не соединена с каким-либо предком вершины current_node\n",
    "                    # значит, мы нашли мост \n",
    "                    \n",
    "                    if current_node > next_node: # чтобы меньший индекс стоял первым\n",
    "                        bridges.append((next_node, current_node))\n",
    "                    else: \n",
    "                        bridges.append((current_node, next_node))\n",
    "                    \n",
    "            elif colors[next_node] == 'grey': \n",
    "                if next_node == prev_node: # если при просмотре смежных серых вершин попадаем на родителя (prev), то пропускаем\n",
    "                    continue \n",
    "                else: # если же при просмотре серых вершин не попадаем на родителя, то мы нашли обратное ребро\n",
    "                    tick_low[current_node] = min(tick_low[current_node], tick_in[next_node])\n",
    "                \n",
    "        colors[current_node] = 'black' # как только просмотрели все смежные вершины, окрашиваем в черный \n",
    "        return   \n",
    "    \n",
    "    for vert in adj_list: # на тот случай, если граф несвязный\n",
    "        if colors[vert] == 'white':\n",
    "            dfs_rec(vert, vert) \n",
    "    \n",
    "    return bridges"
   ]
  },
  {
   "cell_type": "code",
   "execution_count": null,
   "metadata": {
    "id": "bwuVGx16C0J6"
   },
   "outputs": [],
   "source": [
    "# рандомизированный алгоритм для поиска мостов\n",
    "# на вход поступает граф представленный списком смежности\n",
    "# саписок представлен как словарь(хеш-таблица) списков \n",
    "# выход представляет собой список ребер, являющихся мостами с большой вероятностью\n",
    "\n",
    "import numpy as np\n",
    "from random import randint\n",
    "\n",
    "def compute_bridges_rand(adj_list): \n",
    "    \n",
    "    colors = dict() # словарь с цветами вершин\n",
    "    marks = dict() # словарь с метками ребер (в нем для каждого ребра будет лежать число от 0 до max uint64 для xor)\n",
    "    # Если метка ребра равна нулю (все биты равны нулю, то есть оно ни разу не было частью Эйлерова цикла), то оно - мост\n",
    "    \n",
    "    for i in adj_list:\n",
    "        colors[i] = 'white' \n",
    "        for j in adj_list[i]:\n",
    "            marks[(i, j)] = -1 # -1 означает, что алгоритм еще это ребро не смотрел \n",
    "    def dfs_rec(current_node, prev_node):\n",
    "        colors[current_node] = 'grey' # помечаем текущую вершину как серую        \n",
    "        xor_product = 0\n",
    "        \n",
    "        for next_node in adj_list[current_node]: # проходимся по всем смежным вершинам \n",
    "            if colors[next_node] == 'white': \n",
    "                prev_xor = dfs_rec(next_node, current_node) # накопленный на ребре xor\n",
    "                marks[(current_node, next_node)] = prev_xor\n",
    "                marks[(next_node, current_node)] = prev_xor                \n",
    "                \n",
    "            elif prev_node != next_node and colors[next_node] == 'grey': # проверяем, не просматриваем ли мы родительскую вершину              \n",
    "                if (marks[(current_node, next_node)] == -1) and (marks[(next_node, current_node)] == -1): \n",
    "                    # если алгоритм еще не присвоил этому ребру случайное значение \n",
    "                    mark = randint(0, 18446744073709551615) # генерируем случайное число от 0 до max uint64\n",
    "                    marks[(current_node, next_node)] = mark # присваиваем его ребру, не являющемуся частью dfs дерева (остовного дерева)\n",
    "                    marks[(next_node, current_node)] = mark                    \n",
    "        \n",
    "        for next_node in adj_list[current_node]:\n",
    "            if prev_node != next_node and (colors[next_node] == 'grey' or  colors[next_node] == 'black'):\n",
    "                xor_product = xor_product ^ marks[(current_node, next_node)] # вычисляем для всех вершин, кроме родительской        \n",
    "                \n",
    "        colors[current_node] = 'black' # как только просмотрели все смежные вершины, окрашиваем в черный\n",
    "        return xor_product # это xor всех инцидентных вершине current ребер    \n",
    "    \n",
    "    for vert in adj_list:\n",
    "        if colors[vert] == 'white':\n",
    "            dfs_rec(vert, vert)\n",
    "    \n",
    "    out_edge = []\n",
    "    for edge in marks:\n",
    "        if (edge[0] < edge[1]) and marks[edge] == 0:\n",
    "            out_edge.append(edge)\n",
    "    \n",
    "    return out_edge\n",
    "    "
   ]
  },
  {
   "cell_type": "code",
   "execution_count": null,
   "metadata": {
    "id": "Bimj4itwJ0NR"
   },
   "outputs": [],
   "source": [
    "# рандомизированный алгоритм для поиска 2-мостов\n",
    "#\n",
    "# на вход поступает граф представленный списком смежности и алгоритм сортировки для меток на ребрах\n",
    "# саписок представлен как словарь(хеш-таблица) списков \n",
    "#\n",
    "# выходом алгоритма является список списков ребер\n",
    "# в каждом списке любая пара ребер должна с высокой вероятностью образовывать 2-мост\n",
    "# например, если выходом является спискок [[e1, e2, e3],[e4, e5]]\n",
    "# то с высокой вероятностью 2-мостами будут пары ребер: (e1,e2), (e1,e3), (e2,e3), (e4,e5)\n",
    "# ребра здесь это пары вершин типа e1 = (1,2)\n",
    "def compute_2bridges_rand(adj_list, sort_fun):\n",
    "  # этот код нужно заменить на Ваш\n",
    "    colors=dict()\n",
    "    marks = dict()\n",
    "    \n",
    "    for i in adj_list:\n",
    "        colors[i]='white'\n",
    "        for j in adj_list[i]:\n",
    "            marks[(i, j)] = -1\n",
    "    \n",
    "    # проходим по дереву как в алгоритме с мостами    \n",
    "    def dfs_rec(cur_node, prev_node):\n",
    "        colors[cur_node]='grey'\n",
    "        xor = 0       \n",
    "        for next_node in adj_list[cur_node]:\n",
    "            if colors[next_node]=='white':\n",
    "                #print(next_node, cur_node, 'turning grey')\n",
    "                prev_xor = dfs_rec(next_node, cur_node)\n",
    "                marks[(cur_node, next_node)] = prev_xor\n",
    "                marks[(next_node, cur_node)] = prev_xor  \n",
    "                \n",
    "            elif prev_node != next_node and colors[next_node] == 'grey':            \n",
    "                if (marks[(cur_node, next_node)] == -1) and (marks[(next_node, cur_node)] == -1): \n",
    "                    mark = randint(0, 18446744073709551615)\n",
    "                    marks[(cur_node, next_node)] = mark \n",
    "                    marks[(next_node, cur_node)] = mark\n",
    "        for next_node in adj_list[cur_node]:\n",
    "            if prev_node != next_node and (colors[next_node] == 'grey' or  colors[next_node] == 'black'):\n",
    "                xor = xor ^ marks[(cur_node, next_node)]\n",
    "            \n",
    "        colors[cur_node]='black'\n",
    "        #print(cur_node, 'turning black')\n",
    "        return xor  \n",
    "    \n",
    "    for i in adj_list:\n",
    "        if colors[i]=='white':\n",
    "            dfs_rec(i,i)\n",
    "    \n",
    "    out=[]# выходной массив\n",
    "    pure_marks=[]# лист только с метками\n",
    "    marks_1=[]# лист с ребрами и их метками (без ребер мостов)\n",
    "    bridges=set()\n",
    "    for edge in marks:\n",
    "        if (edge[0] < edge[1]):# убираем повторяющиеся ребра\n",
    "            marks_1.append((edge, marks[edge]))\n",
    "            pure_marks.append(marks[edge])   \n",
    "\n",
    "    if marks_1:\n",
    "        if sort_fun==quick_argsort:\n",
    "            marks_ind_start=list(range(len(pure_marks)))\n",
    "            \n",
    "            marks_ind=sort_fun(pure_marks, marks_ind_start, 0, len(pure_marks))# сортируем и получаем индексы\n",
    "        else:\n",
    "            marks_ind=sort_fun(pure_marks)\n",
    "        sorted_marks_1=[]\n",
    "\n",
    "            #заполняем отсортированный массив ребер и веток с помощью индексов    \n",
    "        for i in range(len(marks_1)):\n",
    "            sorted_marks_1.append(marks_1[marks_ind[i]])\n",
    "        marks_1=sorted_marks_1\n",
    "\n",
    "        el=0   \n",
    "        while marks_1[el][1]==0 and el!=len(marks_1)-1:\n",
    "            for k in range(el+1, len(marks_1)):\n",
    "                out.append([marks_1[el][0], marks_1[k][0]])\n",
    "            marks_1.pop(el)\n",
    "\n",
    "        if marks_1[el][1]==0:#если последний тоже мост\n",
    "             marks_1.pop(el)\n",
    "                \n",
    "        else:# если есть ребра не мосты\n",
    "            #делим отсортированный массив на массивы одинаковых чисел\n",
    "            counter=0# счетчик одинаковых меток\n",
    "            j=len(out)-1# индекс последнего элемента выходного массива\n",
    "\n",
    "            for i in range(0, len(marks_1)-1):#для каждого элемента массива \n",
    "                if marks_1[i][1]==marks_1[i+1][1]:#смотрим, если i-й равен следующему\n",
    "                    if counter==0:# если предыдущие не были равны i-му, то есть счетчик равен 0\n",
    "                        out.append([])# тогда добавляем новый список в выходной массив\n",
    "                        j+=1# обновляем индекс выходного массива\n",
    "                    counter+=1\n",
    "                    out[j].append(marks_1[i][0])# добавляем элемент в список списков\n",
    "                else:# если следующий не равен i-му\n",
    "                     if counter>=1:# но счетчик не пуст (то естькак минимум предыдущий элемент был равен i-му)\n",
    "                        out[j].append(marks_1[i][0])# добавляем элемент в список \n",
    "                        counter=0# и зануляем счетчик\n",
    "\n",
    "            # обрабатываем последнй элемент массива на случай если он равен предыдущему\n",
    "            if marks_1[len(marks_1)-1][1]==marks_1[len(marks_1)-2][1]:\n",
    "                out[j].append(marks_1[len(marks_1)-1][0])\n",
    "                \n",
    "        \n",
    "            \n",
    "\n",
    "    return out\n"
   ]
  },
  {
   "cell_type": "markdown",
   "metadata": {
    "id": "9a0jhn8IUcSF"
   },
   "source": [
    "## Эйлеровы циклы"
   ]
  },
  {
   "cell_type": "code",
   "execution_count": null,
   "metadata": {
    "id": "UBAee06G5-aU"
   },
   "outputs": [],
   "source": [
    "from collections import deque\n",
    "def compute_Euler_circuit_digraph(adj_list): \n",
    "    stack = list()\n",
    "    cycle_stack = list()\n",
    "    stack.append(0) # пусть начальная вершина - ноль\n",
    "    visited_edges = list() # множество посещенных ребер \n",
    "    \n",
    "    while len(stack) != 0: # если стек не пуст\n",
    "        current_vert = stack[-1]         \n",
    "        #visited_count = 0\n",
    "        has_unvisited_edges = False\n",
    "        \n",
    "        for next_vert in adj_list[current_vert]: # смотрим все ребра, инцидентные current вершине          \n",
    "            if (current_vert, next_vert) not in visited_edges: # если алгоритм еще не ходил по этому ребру\n",
    "                visited_edges.append((current_vert, next_vert)) # добавляем это ребро в посещенные\n",
    "                stack.append(next_vert) # добавляем вершину в стек, чтобы потом в нее войти \n",
    "                has_unvisited_edges = True # поднимаем флаг, что на этой итерации было найдено непосещенное ребро\n",
    "                break\n",
    "                \n",
    "        if not has_unvisited_edges: # если у данной вершины не нашлось инцидентных непройденных ребер\n",
    "            path_vert = stack.pop(-1)       \n",
    "            cycle_stack.append(path_vert) # запоминаем ее, как часть эйлерова цикла\n",
    "            \n",
    "    out_path = []   \n",
    "    current_vert = cycle_stack.pop(-1)\n",
    "    while len(cycle_stack) != 0:\n",
    "        next_vert = cycle_stack.pop(-1)  \n",
    "        out_path.append((current_vert, next_vert))\n",
    "        current_vert = next_vert\n",
    "    return out_path  "
   ]
  },
  {
   "cell_type": "markdown",
   "metadata": {
    "id": "YayReqtzNMN8"
   },
   "source": [
    "## Арифметика в конечных кольцах и полях"
   ]
  },
  {
   "cell_type": "code",
   "execution_count": null,
   "metadata": {
    "id": "lmhOvc-rNS0c"
   },
   "outputs": [],
   "source": [
    "# эта функция инвертирует x в Zp с помощью алгоритма Евклида\n",
    "# выходом является целое число y, такое что\n",
    "# 1) 0 < y < p \n",
    "# 2) (xy) mod p = 1 \n",
    "# если число невозможно инвертировать, функция возвращает 0\n",
    "def invert_in_Zp_Euclead(p,x):   \n",
    "    if x <= 0:\n",
    "        return 0\n",
    "    elif x >= p:\n",
    "        return -1\n",
    "    elif x == 1:\n",
    "        return 1\n",
    "    else:\n",
    "               \n",
    "        # значения на позапрошлой итерации\n",
    "        v_prev_prev = 1\n",
    "        u_prev_prev = 0\n",
    "        remainder_prev_prev = p*v_prev_prev + x*u_prev_prev # a_i-2 (a0)      \n",
    "        \n",
    "        # значения на прошлой итерации\n",
    "        v_prev = 0        \n",
    "        u_prev = 1   \n",
    "        remainder_prev = p*v_prev + x*u_prev # a_i-1 (a1)        \n",
    "        #q_prev = remainder_prev_prev // remainder_prev # quotient # not used\n",
    "        \n",
    "        # значения на текующей итерации\n",
    "        gcd_now = 0\n",
    "        \n",
    "        while (remainder_prev_prev % remainder_prev > 0):\n",
    "            \n",
    "            remainder_now = remainder_prev_prev % remainder_prev\n",
    "            quotient_now = remainder_prev_prev // remainder_prev\n",
    "            v_now = v_prev_prev - v_prev*(quotient_now) # вычетание строк\n",
    "            u_now = u_prev_prev - u_prev*(quotient_now) # вычетание строк \n",
    "                        \n",
    "            if (remainder_now == 1):\n",
    "                if (u_now > 0):\n",
    "                    return u_now\n",
    "                if (u_now < 0): \n",
    "                    return p + u_now\n",
    "            else:               \n",
    "\n",
    "                remainder_prev_prev = remainder_prev\n",
    "                remainder_prev = remainder_now\n",
    "\n",
    "                v_prev_prev = v_prev \n",
    "                v_prev = v_now\n",
    "\n",
    "                u_prev_prev = u_prev\n",
    "                u_prev = u_now                \n",
    "                                \n",
    "    return 0 "
   ]
  },
  {
   "cell_type": "code",
   "execution_count": null,
   "metadata": {
    "id": "e5XLlM4oOGcY"
   },
   "outputs": [],
   "source": [
    "# эта функция инвертирует x в Zp с помощью малой теоремы Ферма и алгоритма быстрого возведения в степень\n",
    "# выходом является целое число y, такое что\n",
    "# 1) 0 < y < p \n",
    "# 2) (xy) mod p = 1 \n",
    "# если число невозможно инвертировать, функция возвращает 0, а если же число не входит в Z_p, то возвращает -1\n",
    "def fast_exponentiation(x, n):\n",
    "    if n == 1:\n",
    "        return x\n",
    "    elif n == 0:\n",
    "        return 1\n",
    "    elif n % 2 == 0:\n",
    "        return fast_exponentiation(x*x, n/2)\n",
    "    elif n % 2 == 1:\n",
    "        return fast_exponentiation(x*x, n // 2)*x\n",
    "\n",
    "def invert_in_Zp_Ferma(p,x):\n",
    "    # проверка, входит ли число x в Z_p\n",
    "    if x < 0:\n",
    "        return -1  \n",
    "    elif x >= p:\n",
    "        return -1\n",
    "    elif x == 0: # у нуля не существует обратного\n",
    "        return 0    \n",
    "    else:\n",
    "        # проверяем числа на взаимную простоту \n",
    "        a = p\n",
    "        b = x \n",
    "        while (a != 0 and b != 0):\n",
    "            if a >= b:\n",
    "                (a, b) = (b, a % b) \n",
    "            elif b > a:\n",
    "                (a, b) = (a, b % a)\n",
    "            gcd = a            \n",
    "        if gcd == 1:\n",
    "            return fast_exponentiation(x, p-2) % p\n",
    "        else:\n",
    "            return 0 # числа не взаимно простые, обратного не существует "
   ]
  },
  {
   "cell_type": "markdown",
   "metadata": {
    "id": "cC_5grG8GX1k"
   },
   "source": [
    "## Стресс тесты"
   ]
  },
  {
   "cell_type": "code",
   "execution_count": null,
   "metadata": {
    "id": "M2uTC7okGdcs"
   },
   "outputs": [],
   "source": [
    "def stress_test_bridges_determ(n, m, iterations_num=1000):\n",
    "  for i in range(iterations_num):\n",
    "    G = get_random_simple_Gnp_graph(n, m, i)\n",
    "    briges_test = compute_bridges_determ(G)\n",
    "    bridges_true = set(nx.algorithms.bridges(nx.Graph(G)))\n",
    "    diff = list(bridges_true.symmetric_difference(briges_test))\n",
    "    if len(diff) > 0:\n",
    "      raise Exception(f\"Неверное решение в детерминированном алгоритме поиска мостов, n: {n}, m: {m}, seed: {i}\")\n",
    "  print(f\"Стресс тест для детерминированного поиска мостов пройден!, n: {n}, m: {m}, iterations_num: {iterations_num}\")\n",
    "    "
   ]
  },
  {
   "cell_type": "code",
   "execution_count": null,
   "metadata": {
    "id": "GZL4RLYiPAds"
   },
   "outputs": [],
   "source": [
    "def stress_test_bridges_rand(n, m, iterations_num=1000):\n",
    "  exp_err = m * (1/ (2**64))\n",
    "  for i in range(iterations_num):\n",
    "    G = get_random_simple_Gnp_graph(n, m, i) \n",
    "    # тут, видимо, ошибка\n",
    "    # briges_test = compute_bridges_determ(G)\n",
    "    briges_test = compute_bridges_rand(G)\n",
    "    bridges_true = set(nx.algorithms.bridges(nx.Graph(G)))\n",
    "    diff = list(bridges_true.symmetric_difference(briges_test))\n",
    "    if len(diff) > exp_err:\n",
    "      raise Exception(f\"Число ошибок в рандомизированном алгоритме поиска мостов превышено, n: {n}, m: {m}, errors_num: {len(diff)}, seed: {i}\")\n",
    "  print(f\"Стресс тест для рандомизированного поиска мостов пройден!, n: {n}, m: {m}, iterations_num: {iterations_num}\")\n",
    "    "
   ]
  },
  {
   "cell_type": "code",
   "execution_count": null,
   "metadata": {
    "id": "LKOqFG31Nfje"
   },
   "outputs": [],
   "source": [
    "def stress_test_finite_fields(p = 2**61-1, iterations_num = 100000):\n",
    "  for i in range(iterations_num):\n",
    "    x = numpy.random.randint(1, p)\n",
    "    inverse_Euclead_x = invert_in_Zp_Euclead(p,x)\n",
    "    inverse_Ferma_x = invert_in_Zp_Ferma(p,x)\n",
    "    if( np.gcd(p,x) == 1 ):\n",
    "      if (x * inverse_Euclead_x - 1) % p != 0:\n",
    "        raise Exception(f\"Неправильное инвертирование алгоритмом Евклида, p: {p}, x: {x}\")\n",
    "      if (x * inverse_Ferma_x - 1) % p != 0:\n",
    "        raise Exception(f\"Неправильное инвертирование алгоритмом быстрого возведения в степень, p: {p}, x: {x}\")\n",
    "    else :\n",
    "      if inverse_Euclead_x != 0:\n",
    "        raise Exception(f\"Неправильное инвертирование алгоритмом Евклида, p: {p}, x: {x}\")\n",
    "      if inverse_Ferma_x != 0:\n",
    "        raise Exception(f\"Неправильное инвертирование алгоритмом быстрого возведения в степень, p: {p}, x: {x}\")  \n",
    "  print(f\"Стресс тест для арифметики в конечных полях пройден!, p: {p}, iterations_num: {iterations_num}\")"
   ]
  },
  {
   "cell_type": "code",
   "execution_count": null,
   "metadata": {
    "id": "fwa1LtushrLG"
   },
   "outputs": [],
   "source": [
    "def stress_test_2bridges_rand(n, m, sort, iterations_num=1000):\n",
    "  exp_err = (m*(m-1)/2) * (1/ (2**64))\n",
    "  for iteration in range(iterations_num):\n",
    "    err_num = 0\n",
    "    G = nx.Graph(get_random_simple_Gnp_graph(n, m, iteration))\n",
    "    bridges_test = compute_2bridges_rand(G,sort)\n",
    "    for edge_group in bridges_test:\n",
    "      for e1 in range(len(edge_group)):\n",
    "        for e2 in range(e1+1,len(edge_group)):\n",
    "          G_with_deleted_2bridge = G.copy()\n",
    "          G_with_deleted_2bridge.remove_edge(*edge_group[e1])\n",
    "          G_with_deleted_2bridge.remove_edge(*edge_group[e2])\n",
    "          if nx.connected.number_connected_components(G) == nx.connected.number_connected_components(G_with_deleted_2bridge):\n",
    "            ++err_num\n",
    "    if err_num > exp_err:\n",
    "      raise Exception(f\"Число ошибок в рандомизированном алгоритме поиска мостов превышено, n: {n}, m: {m}, errors_num: {err_num}, sort: {sort}, seed: {iteration}\")\n",
    "  print(f\"Стресс тест для рандомизированного поиска 2 мостов пройден!, n: {n}, m: {m}, , sort: {sort}, iterations_num: {iterations_num}\")"
   ]
  },
  {
   "cell_type": "code",
   "execution_count": null,
   "metadata": {
    "id": "krNafNhmKdeF"
   },
   "outputs": [],
   "source": [
    "def test_Euler_circuit(G, test_circuit):\n",
    "  edges_dict = {}\n",
    "  m = 0\n",
    "  for (v,neib) in G.items():\n",
    "    for u in neib:\n",
    "      edges_dict[(v,u)] = False\n",
    "      m += 1\n",
    "\n",
    "  l = len(test_circuit)\n",
    "  if m != l:\n",
    "    return False\n",
    "\n",
    "  for i in range(1,m):\n",
    "    if test_circuit[i-1][1] != test_circuit[i][0]:\n",
    "      return False\n",
    "  if test_circuit[l-1][1] != test_circuit[0][0]:\n",
    "    return False\n",
    "\n",
    "  for e in test_circuit:\n",
    "    if edges_dict.get(e, True) == True:\n",
    "      return False\n",
    "    else:\n",
    "      edges_dict[e] = True\n",
    "    \n",
    "  return True\n",
    "\n",
    "# max_n должно быть строго больше чем 10\n",
    "def stress_test_Euler_circuit_digraph(max_n, iterations_num=1000):\n",
    "  for iteration in range(iterations_num):\n",
    "    n = np.random.randint(10, max_n)\n",
    "    k = np.floor(n/4)\n",
    "    G = get_Euler_digraph(n,k)\n",
    "    test_circuit = compute_Euler_circuit_digraph(G)\n",
    "    if not test_Euler_circuit(G, test_circuit):\n",
    "      raise Exception(f\"Неправильный Эйлеров обход, функция генерации: get_Euler_digraph, n: {n}, k: {k}\")\n",
    "    print(f'n: {n}, k: {k}')\n",
    "  print(f\"Стресс тест для ориентированных Эйлеровых циклов пройден, max_n: {max_n}, iterations_num: {iterations_num}\")"
   ]
  },
  {
   "cell_type": "code",
   "execution_count": null,
   "metadata": {
    "colab": {
     "background_save": true,
     "base_uri": "https://localhost:8080/"
    },
    "id": "uJvi4ayZbheW",
    "outputId": "bae28761-9d3c-4014-cac0-fceab039403c",
    "scrolled": true
   },
   "outputs": [
    {
     "name": "stdout",
     "output_type": "stream",
     "text": [
      "Стресс тест для детерминированного поиска мостов пройден!, n: 100, m: 30, iterations_num: 100\n",
      "Стресс тест для рандомизированного поиска мостов пройден!, n: 100, m: 30, iterations_num: 100\n",
      "Стресс тест для арифметики в конечных полях пройден!, p: 2347, iterations_num: 1000\n",
      "Стресс тест для рандомизированного поиска 2 мостов пройден!, n: 1000, m: 1000, , sort: <function radix_argsort at 0x7f840de43560>, iterations_num: 2\n",
      "Стресс тест для рандомизированного поиска 2 мостов пройден!, n: 1000, m: 1000, , sort: <function bucket_argsort at 0x7f840de43cb0>, iterations_num: 2\n",
      "Стресс тест для рандомизированного поиска 2 мостов пройден!, n: 1000, m: 1000, , sort: <function quick_argsort at 0x7f840e2f3e60>, iterations_num: 2\n",
      "n: 125, k: 31.0\n",
      "n: 33, k: 8.0\n",
      "n: 285, k: 71.0\n",
      "n: 147, k: 36.0\n",
      "n: 243, k: 60.0\n",
      "n: 162, k: 40.0\n",
      "n: 124, k: 31.0\n",
      "n: 78, k: 19.0\n",
      "n: 180, k: 45.0\n",
      "n: 14, k: 3.0\n",
      "n: 71, k: 17.0\n",
      "n: 157, k: 39.0\n",
      "n: 262, k: 65.0\n",
      "n: 217, k: 54.0\n",
      "n: 277, k: 69.0\n",
      "n: 169, k: 42.0\n",
      "n: 295, k: 73.0\n",
      "n: 20, k: 5.0\n",
      "n: 200, k: 50.0\n",
      "n: 278, k: 69.0\n",
      "Стресс тест для ориентированных Эйлеровых циклов пройден, max_n: 300, iterations_num: 20\n"
     ]
    }
   ],
   "source": [
    "stress_test_bridges_determ(100,30,100)\n",
    "stress_test_bridges_rand(100,30,100)\n",
    "stress_test_finite_fields(2347, 1000)\n",
    "stress_test_2bridges_rand(1000,1000,radix_argsort,2)\n",
    "stress_test_2bridges_rand(1000,1000,bucket_argsort,2)\n",
    "stress_test_2bridges_rand(1000,1000,quick_argsort,2)\n",
    "stress_test_Euler_circuit_digraph(300, 20) "
   ]
  },
  {
   "cell_type": "markdown",
   "metadata": {
    "id": "IFrOCtsGYI9L"
   },
   "source": [
    "## Юнит тесты"
   ]
  },
  {
   "cell_type": "code",
   "execution_count": 32,
   "metadata": {
    "id": "fMi57s_vXG3a"
   },
   "outputs": [],
   "source": [
    "def finite_fields_unit_tests():\n",
    "  assert(invert_in_Zp_Euclead(6,4) == 0)\n",
    "  assert(invert_in_Zp_Ferma(6,4) == 0)\n",
    "\n",
    "  assert(invert_in_Zp_Euclead(6,2) == 0)\n",
    "  assert(invert_in_Zp_Ferma(6,2) == 0)\n",
    "\n",
    "  assert(invert_in_Zp_Euclead(2347,0) == 0)\n",
    "  assert(invert_in_Zp_Ferma(2347,0) == 0)\n",
    "\n",
    "  assert(invert_in_Zp_Euclead(7,6) == 6)\n",
    "  assert(invert_in_Zp_Ferma(7,6) == 6)\n",
    "\n",
    "  assert(invert_in_Zp_Euclead(2347,2346) == 2346)\n",
    "  assert(invert_in_Zp_Ferma(2347,2346) == 2346)\n",
    "\n",
    "  assert(invert_in_Zp_Euclead(1,0) == 0)\n",
    "  assert(invert_in_Zp_Ferma(1,0) == 0)\n",
    "\n",
    "  assert(invert_in_Zp_Euclead(2,0) == 0)\n",
    "  assert(invert_in_Zp_Ferma(2,0) == 0)\n",
    "\n",
    "  assert(invert_in_Zp_Euclead(2,1) == 1)\n",
    "  assert(invert_in_Zp_Ferma(2,1) == 1)"
   ]
  },
  {
   "cell_type": "code",
   "execution_count": 33,
   "metadata": {
    "id": "WerEDsxjE6Am"
   },
   "outputs": [],
   "source": [
    "def bridges_unit_test(G):\n",
    "  test_bridges_determ = compute_bridges_determ(nx.convert.to_dict_of_lists(G))\n",
    "  test_bridges_rand = compute_bridges_rand(nx.convert.to_dict_of_lists(G))\n",
    "  true_bridges = set(nx.algorithms.bridges(nx.Graph(G)))\n",
    "  determ_diff = list(true_bridges.symmetric_difference(test_bridges_determ))\n",
    "  rand_diff = list(true_bridges.symmetric_difference(test_bridges_rand))\n",
    "  assert len(determ_diff) == 0\n",
    "  assert len(rand_diff) == 0"
   ]
  },
  {
   "cell_type": "code",
   "execution_count": 34,
   "metadata": {
    "id": "dqHC-TYKMWZ-"
   },
   "outputs": [],
   "source": [
    "def two_bridges_unit_test(G, sort_fun):\n",
    "  test_bridges = compute_2bridges_rand(nx.convert.to_dict_of_lists(G), sort_fun)\n",
    "  for edge_group in test_bridges:\n",
    "      for e1 in range(len(edge_group)):\n",
    "        for e2 in range(e1+1,len(edge_group)):\n",
    "          G_with_deleted_2bridge = G.copy()\n",
    "          G_with_deleted_2bridge.remove_edge(*edge_group[e1])\n",
    "          G_with_deleted_2bridge.remove_edge(*edge_group[e2])\n",
    "          assert nx.connected.number_connected_components(G) < nx.connected.number_connected_components(G_with_deleted_2bridge)"
   ]
  },
  {
   "cell_type": "code",
   "execution_count": 35,
   "metadata": {
    "id": "LunUdpLHGBtJ"
   },
   "outputs": [],
   "source": [
    "def Euler_circuit_unit_tests():\n",
    "  dims = [1, 2, 3, 4, 5, 6]\n",
    "  for dim in dims:\n",
    "    G = get_hypercube_digraph(dim)\n",
    "    test_circuit = compute_Euler_circuit_digraph(G)\n",
    "    assert(test_Euler_circuit(G,test_circuit))"
   ]
  },
  {
   "cell_type": "code",
   "execution_count": 36,
   "metadata": {
    "colab": {
     "base_uri": "https://localhost:8080/"
    },
    "id": "WRb-MJf9b0p6",
    "outputId": "742dab29-7816-4a4a-c379-60de473bea38",
    "scrolled": true
   },
   "outputs": [
    {
     "name": "stdout",
     "output_type": "stream",
     "text": [
      "Все юнит тесты для арифметики в конечных полях пройдены успешно!\n",
      "Все юнит тесты для поиска мостов пройдены успешно!\n",
      "Все юнит тесты для поиска 2-мостов пройдены успешно!\n",
      "Все юнит тесты для поиска Эйлеровых циклов пройдены успешно!\n"
     ]
    }
   ],
   "source": [
    "finite_fields_unit_tests()\n",
    "print(\"Все юнит тесты для арифметики в конечных полях пройдены успешно!\")\n",
    "\n",
    "bridges_unit_test(nx.generators.cycle_graph(10))\n",
    "bridges_unit_test(nx.generators.path_graph(10))\n",
    "bridges_unit_test(nx.generators.empty_graph(10))\n",
    "bridges_unit_test(nx.generators.wheel_graph(10))\n",
    "bridges_unit_test(nx.generators.trivial_graph())\n",
    "bridges_unit_test(nx.generators.balanced_tree(3,3))\n",
    "print(\"Все юнит тесты для поиска мостов пройдены успешно!\")\n",
    "\n",
    "sort_functions = [radix_argsort, bucket_argsort, quick_argsort]\n",
    "#sort_functions = [radix_argsort, bucket_argsort]\n",
    "for sort_fun in sort_functions:\n",
    "  two_bridges_unit_test(nx.generators.cycle_graph(10), sort_fun)\n",
    "  two_bridges_unit_test(nx.generators.path_graph(10), sort_fun)\n",
    "  two_bridges_unit_test(nx.generators.empty_graph(10), sort_fun)\n",
    "  two_bridges_unit_test(nx.generators.wheel_graph(10), sort_fun)\n",
    "  two_bridges_unit_test(nx.generators.trivial_graph(), sort_fun)\n",
    "  two_bridges_unit_test(nx.generators.balanced_tree(3,3), sort_fun)\n",
    "print(\"Все юнит тесты для поиска 2-мостов пройдены успешно!\")\n",
    "\n",
    "Euler_circuit_unit_tests()\n",
    "print(\"Все юнит тесты для поиска Эйлеровых циклов пройдены успешно!\")\n"
   ]
  },
  {
   "cell_type": "markdown",
   "metadata": {
    "id": "OaHIW1b_ad02"
   },
   "source": [
    "# Графики"
   ]
  },
  {
   "cell_type": "code",
   "execution_count": 37,
   "metadata": {
    "id": "Wu6eiPL1dZt1"
   },
   "outputs": [],
   "source": [
    "def check_time(f, *args):\n",
    "  start = time.time()\n",
    "  f(*args)\n",
    "  return time.time() - start\n"
   ]
  },
  {
   "cell_type": "code",
   "execution_count": 38,
   "metadata": {
    "id": "QT3suSXzXIcR"
   },
   "outputs": [],
   "source": [
    "def plot_bridges(m_fun, start = 100, step = 100, end = 1000, number_of_retryes = 100): \n",
    "  _x, determ_Gnp_y, determ_Gnm_y, rand_Gnp_y, rand_Gnm_y = [], [], [], [], []\n",
    "  for n in range(start,end,step):\n",
    "    m = m_fun(n)\n",
    "    time_Gnp_determ = 0.\n",
    "    time_Gnp_rand = 0.\n",
    "    time_Gnm_determ = 0.\n",
    "    time_Gnm_rand = 0.\n",
    "    for exp_num in range(number_of_retryes):\n",
    "      g = get_random_simple_Gnp_graph(n,m,exp_num)\n",
    "      time_Gnp_determ += check_time(compute_bridges_determ, g)\n",
    "      time_Gnp_rand += check_time(compute_bridges_rand, g)\n",
    "      g = get_random_simple_Gnm_graph(n,m,exp_num)\n",
    "      time_Gnm_determ += check_time(compute_bridges_determ, g)\n",
    "      time_Gnm_rand += check_time(compute_bridges_rand, g)\n",
    "    time_Gnp_determ /= number_of_retryes\n",
    "    time_Gnp_rand /= number_of_retryes\n",
    "    time_Gnm_determ /= number_of_retryes\n",
    "    time_Gnm_rand /= number_of_retryes\n",
    "    _x.append(n)\n",
    "    determ_Gnp_y.append(time_Gnp_determ)\n",
    "    rand_Gnp_y.append(time_Gnp_rand)\n",
    "    determ_Gnm_y.append(time_Gnm_determ)\n",
    "    rand_Gnm_y.append(time_Gnm_rand)\n",
    "\n",
    "  plt.plot(_x, determ_Gnp_y, label = \"determ Gnp\")\n",
    "  plt.plot(_x, rand_Gnp_y, label = \"rand Gnp\")\n",
    "  plt.plot(_x, determ_Gnm_y, label = \"determ Gnm\")\n",
    "  plt.plot(_x, rand_Gnm_y, label = \"rand Gnm\")\n",
    "  plt.legend(bbox_to_anchor=(1.05, 1), loc='upper left', borderaxespad=0.)\n",
    "  plt.xlabel('number of vertices')\n",
    "  plt.ylabel('time s.')\n",
    "  plt.title(f\"Эксперименты с мостами, start: {start}, step: {step}, end: {end},\\n \\\n",
    "  number of retryes: {number_of_retryes}, edges density: {n/m}\")\n",
    "  #plt.figure(figsize= (1000,1000))\n",
    "  plt.show()"
   ]
  },
  {
   "cell_type": "code",
   "execution_count": 39,
   "metadata": {
    "id": "ph0V_04lfXNi"
   },
   "outputs": [],
   "source": [
    "def plot_2bridges(m_fun, start = 100, step = 100, end = 1000, number_of_retryes = 5): \n",
    "  _x = []\n",
    "  quick_Gnp, radix_Gnp, bucket_Gnp, standard_Gnp = [], [], [], []\n",
    "  quick_Gnm, radix_Gnm, bucket_Gnm, standard_Gnm = [], [], [], []\n",
    "\n",
    "  for n in range(start,end,step):\n",
    "    m = m_fun(n)\n",
    "    time_quick_Gnp, time_radix_Gnp, time_bucket_Gnp, time_standard_Gnp = 0., 0., 0., 0.\n",
    "    time_quick_Gnm, time_radix_Gnm, time_bucket_Gnm, time_standard_Gnm = 0., 0., 0., 0.\n",
    "\n",
    "    for exp_num in range(number_of_retryes):\n",
    "      g = get_random_simple_Gnp_graph(n,m,exp_num)\n",
    "      time_quick_Gnp += check_time(compute_2bridges_rand,g,quick_argsort)\n",
    "      time_bucket_Gnp += check_time(compute_2bridges_rand,g,bucket_argsort)\n",
    "      time_radix_Gnp += check_time(compute_2bridges_rand,g,radix_argsort)\n",
    "      time_standard_Gnp += check_time(compute_2bridges_rand,g,np.argsort)\n",
    "\n",
    "      g = get_random_simple_Gnm_graph(n,m,exp_num)\n",
    "      time_quick_Gnm += check_time(compute_2bridges_rand,g,quick_argsort)\n",
    "      time_bucket_Gnm += check_time(compute_2bridges_rand,g,bucket_argsort)\n",
    "      time_radix_Gnm += check_time(compute_2bridges_rand,g,radix_argsort)\n",
    "      time_standard_Gnm += check_time(compute_2bridges_rand,g,np.argsort)\n",
    "\n",
    "    time_quick_Gnp /= number_of_retryes\n",
    "    time_bucket_Gnp /= number_of_retryes\n",
    "    time_radix_Gnp /= number_of_retryes\n",
    "    time_standard_Gnp /= number_of_retryes\n",
    "\n",
    "    time_quick_Gnm /= number_of_retryes\n",
    "    time_bucket_Gnm /= number_of_retryes\n",
    "    time_radix_Gnm /= number_of_retryes\n",
    "    time_standard_Gnm /= number_of_retryes\n",
    "\n",
    "    _x.append(n)\n",
    "\n",
    "    quick_Gnp.append(time_quick_Gnp)\n",
    "    bucket_Gnp.append(time_bucket_Gnp)\n",
    "    radix_Gnp.append(time_radix_Gnp)\n",
    "    standard_Gnp.append(time_standard_Gnp)\n",
    "\n",
    "    quick_Gnm.append(time_quick_Gnm)\n",
    "    bucket_Gnm.append(time_bucket_Gnm)\n",
    "    radix_Gnm.append(time_radix_Gnm)\n",
    "    standard_Gnm.append(time_standard_Gnm)\n",
    "\n",
    "  plt.plot(_x, quick_Gnp, label = \"quick Gnp\") \n",
    "  plt.plot(_x, bucket_Gnp, label = \"bucket Gnp\")\n",
    "  plt.plot(_x, radix_Gnp, label = \"radix Gnp\")\n",
    "  plt.plot(_x, standard_Gnp, label = \"standard Gnp\")\n",
    "\n",
    "  plt.plot(_x, quick_Gnm, label = \"quick Gnm\")\n",
    "  plt.plot(_x, bucket_Gnm, label = \"bucket Gnm\")\n",
    "  plt.plot(_x, radix_Gnm, label = \"radix Gnm\")\n",
    "  plt.plot(_x, standard_Gnm, label = \"standard Gnm\")\n",
    "\n",
    "  plt.legend(bbox_to_anchor=(1.05, 1), loc='upper left', borderaxespad=0.)\n",
    "  plt.xlabel('number of vertices')\n",
    "  plt.ylabel('time s.')\n",
    "  plt.title(f\"Эксперименты с 2-мостами, start: {start}, step: {step}, end: {end},\\n \\\n",
    "  number of retryes: {number_of_retryes}, edges density: {n/m}\")\n",
    "  #plt.figure(figsize= (100000,100000))\n",
    "  plt.show()"
   ]
  },
  {
   "cell_type": "markdown",
   "metadata": {
    "id": "pEnX1Cqz5-aY"
   },
   "source": [
    "## Разреженные"
   ]
  },
  {
   "cell_type": "code",
   "execution_count": 41,
   "metadata": {
    "id": "VVqGGWdfHcjZ"
   },
   "outputs": [],
   "source": [
    "import sys\n",
    "sys.setrecursionlimit(10000)"
   ]
  },
  {
   "cell_type": "code",
   "execution_count": 42,
   "metadata": {
    "colab": {
     "base_uri": "https://localhost:8080/",
     "height": 327
    },
    "id": "s1qohsHKgPOy",
    "outputId": "d55564cf-a733-4318-9fab-b180307c584e"
   },
   "outputs": [
    {
     "data": {
      "image/png": "[encoded data removed]",
      "text/plain": [
       "<Figure size 432x288 with 1 Axes>"
      ]
     },
     "metadata": {
      "needs_background": "light",
      "tags": []
     },
     "output_type": "display_data"
    },
    {
     "name": "stdout",
     "output_type": "stream",
     "text": [
      "Total time: 47.18645453453064\n"
     ]
    }
   ],
   "source": [
    "print(f\"Total time: {check_time(plot_bridges, lambda n: 5*n, 100, 100, 1500, 50)}\")"
   ]
  },
  {
   "cell_type": "code",
   "execution_count": 43,
   "metadata": {
    "colab": {
     "base_uri": "https://localhost:8080/",
     "height": 327
    },
    "id": "76072Rr5oKlC",
    "outputId": "880ef20e-5fdd-4de7-8a00-3abc4497fea3"
   },
   "outputs": [
    {
     "data": {
      "image/png": "[encoded data removed]",
      "text/plain": [
       "<Figure size 432x288 with 1 Axes>"
      ]
     },
     "metadata": {
      "needs_background": "light",
      "tags": []
     },
     "output_type": "display_data"
    },
    {
     "name": "stdout",
     "output_type": "stream",
     "text": [
      "Total time: 42.56608247756958\n"
     ]
    }
   ],
   "source": [
    "print(f\"Total time: {check_time(plot_2bridges, lambda n: 5*n, 100, 100, 1000, 20)}\")"
   ]
  },
  {
   "cell_type": "markdown",
   "metadata": {
    "id": "xPrV0XLg5-aZ"
   },
   "source": [
    "## Плотные"
   ]
  },
  {
   "cell_type": "code",
   "execution_count": 44,
   "metadata": {
    "colab": {
     "base_uri": "https://localhost:8080/",
     "height": 327
    },
    "id": "uO8MjwRl5-aZ",
    "outputId": "3dc3c53d-44ec-4a7c-9f10-b202f0d786d2"
   },
   "outputs": [
    {
     "data": {
      "image/png": "[encoded data removed]",
      "text/plain": [
       "<Figure size 432x288 with 1 Axes>"
      ]
     },
     "metadata": {
      "needs_background": "light",
      "tags": []
     },
     "output_type": "display_data"
    },
    {
     "name": "stdout",
     "output_type": "stream",
     "text": [
      "Total time: (516.1898546218872, 100, 100, 1000, 10)\n"
     ]
    }
   ],
   "source": [
    "print(f\"Total time: {check_time(plot_bridges, lambda n: (n**2)/10),  100, 100, 1000, 10}\")"
   ]
  },
  {
   "cell_type": "code",
   "execution_count": 45,
   "metadata": {
    "colab": {
     "base_uri": "https://localhost:8080/",
     "height": 327
    },
    "id": "NCWc_H5K5-aZ",
    "outputId": "d6cd4955-c510-42fd-b67b-5802ef933b39"
   },
   "outputs": [
    {
     "data": {
      "image/png": "[encoded data removed]",
      "text/plain": [
       "<Figure size 432x288 with 1 Axes>"
      ]
     },
     "metadata": {
      "needs_background": "light",
      "tags": []
     },
     "output_type": "display_data"
    },
    {
     "name": "stdout",
     "output_type": "stream",
     "text": [
      "Total time: (174.7935128211975, 100, 100, 1000, 5)\n"
     ]
    }
   ],
   "source": [
    "print(f\"Total time: {check_time(plot_2bridges, lambda n: (n**2)/10), 100, 100, 1000, 5}\")"
   ]
  },
  {
   "cell_type": "code",
   "execution_count": null,
   "metadata": {
    "id": "7YPMlvEv5-aa"
   },
   "outputs": [],
   "source": []
  }
 ],
 "metadata": {
  "colab": {
   "collapsed_sections": [],
   "name": "Melnikov_Malysheva_Lab1_fixed.ipynb",
   "provenance": []
  },
  "kernelspec": {
   "display_name": "Python 3",
   "language": "python",
   "name": "python3"
  },
  "language_info": {
   "codemirror_mode": {
    "name": "ipython",
    "version": 3
   },
   "file_extension": ".py",
   "mimetype": "text/x-python",
   "name": "python",
   "nbconvert_exporter": "python",
   "pygments_lexer": "ipython3",
   "version": "3.8.5"
  }
 },
 "nbformat": 4,
 "nbformat_minor": 1
}
